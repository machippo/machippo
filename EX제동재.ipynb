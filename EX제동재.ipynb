{
 "cells": [
  {
   "cell_type": "code",
   "execution_count": 5,
   "metadata": {},
   "outputs": [
    {
     "name": "stdout",
     "output_type": "stream",
     "text": [
      "스타벅스 그린 티 프라푸치노\n"
     ]
    }
   ],
   "source": [
    "#과제1\n",
    "g = '스타벅스그린티프라푸치노'\n",
    "print(g[:4]+' '+g[4:6]+' '+g[6]+' '+g[7:])\n"
   ]
  },
  {
   "cell_type": "code",
   "execution_count": 6,
   "metadata": {},
   "outputs": [
    {
     "data": {
      "text/plain": [
       "'스타벅스 그린 티 프라푸치노'"
      ]
     },
     "execution_count": 6,
     "metadata": {},
     "output_type": "execute_result"
    }
   ],
   "source": [
    "#과제2\n",
    "space_loc = list(input('loc:'))\n",
    "space_loc = [int(_) for _ in space_loc]\n",
    "ret = ''\n",
    "for i,loc in enumerate(space_loc):\n",
    "    ret += g[space_loc[i-1]:loc]+' '\n",
    "ret += g[space_loc[-1]:]\n",
    "ret[1:]"
   ]
  }
 ],
 "metadata": {
  "interpreter": {
   "hash": "a58837804fd2729ef60824c2b8d35d304a06a62e439fe9b99bb861118ce1f438"
  },
  "kernelspec": {
   "display_name": "Python 3.10.0 64-bit",
   "language": "python",
   "name": "python3"
  },
  "language_info": {
   "codemirror_mode": {
    "name": "ipython",
    "version": 3
   },
   "file_extension": ".py",
   "mimetype": "text/x-python",
   "name": "python",
   "nbconvert_exporter": "python",
   "pygments_lexer": "ipython3",
   "version": "3.10.0"
  },
  "orig_nbformat": 4
 },
 "nbformat": 4,
 "nbformat_minor": 2
}
