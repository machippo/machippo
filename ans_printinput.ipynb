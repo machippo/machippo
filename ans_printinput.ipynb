{
 "cells": [
  {
   "cell_type": "code",
   "execution_count": 3,
   "metadata": {},
   "outputs": [
    {
     "name": "stdout",
     "output_type": "stream",
     "text": [
      "안녕 내 이름은 제동재(이)야\n",
      "안녕 내 이름은 제동재(이)야\n"
     ]
    }
   ],
   "source": [
    "#31021 제동재 과제\n",
    "a = input('이름:')\n",
    "b = '안녕'\n",
    "c = '내 이름은'\n",
    "d = '(이)야'\n",
    "#과제1\n",
    "print(b,c,a+d)\n",
    "#과제2\n",
    "print(f'{b} {c} {a}{d}')"
   ]
  }
 ],
 "metadata": {
  "interpreter": {
   "hash": "a58837804fd2729ef60824c2b8d35d304a06a62e439fe9b99bb861118ce1f438"
  },
  "kernelspec": {
   "display_name": "Python 3.10.0 64-bit",
   "language": "python",
   "name": "python3"
  },
  "language_info": {
   "codemirror_mode": {
    "name": "ipython",
    "version": 3
   },
   "file_extension": ".py",
   "mimetype": "text/x-python",
   "name": "python",
   "nbconvert_exporter": "python",
   "pygments_lexer": "ipython3",
   "version": "3.10.0"
  },
  "orig_nbformat": 4
 },
 "nbformat": 4,
 "nbformat_minor": 2
}
