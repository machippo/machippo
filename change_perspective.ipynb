{
 "cells": [
  {
   "cell_type": "markdown",
   "metadata": {},
   "source": [
    "# 무게중심을 중심으로 한 회전"
   ]
  },
  {
   "cell_type": "code",
   "execution_count": null,
   "metadata": {},
   "outputs": [],
   "source": [
    "import matplotlib.pyplot as plt\n",
    "import numpy as np\n",
    "xs = np.arange(-1,1,0.05)\n",
    "ys = np.zeros(xs.size)\n",
    "xys = np.array([np.array((x,y)) for x,y in zip(xs,ys)])\n",
    "angle = np.deg2rad(-2)\n",
    "\n",
    "mat =[[np.cos(angle),-np.sin(angle)],\n",
    "      [np.sin(angle),np.cos(angle)]]\n",
    "\n",
    "for n in range(100):\n",
    "    plt.xlim((-2,2))\n",
    "    plt.ylim((-2,2))\n",
    "    xys = xys @ mat\n",
    "    plt.plot(xys[:,0],xys[:,1],\".\")\n",
    "    plt.show()\n",
    "\n"
   ]
  },
  {
   "cell_type": "markdown",
   "metadata": {},
   "source": [
    "# 한 쪽 끝이 움직이지 않게 관찰자의 위치를 보정했을 때의 움직임"
   ]
  },
  {
   "cell_type": "code",
   "execution_count": null,
   "metadata": {},
   "outputs": [],
   "source": [
    "import matplotlib.pyplot as plt\n",
    "import numpy as np\n",
    "xs = np.arange(-1,1,0.05)\n",
    "ys = np.zeros(xs.size)\n",
    "xys = np.array([np.array((x,y)) for x,y in zip(xs,ys)])\n",
    "angle = np.deg2rad(-2)\n",
    "\n",
    "mat =[[np.cos(angle),-np.sin(angle)],\n",
    "      [np.sin(angle),np.cos(angle)]]\n",
    "\n",
    "for n in range(100):\n",
    "    plt.xlim((-2,2))\n",
    "    plt.ylim((-2,2))\n",
    "    xys = xys @ mat\n",
    "    rx,ry = xys[0,0],xys[0,1]\n",
    "    plt.plot(xys[:,0]-rx,xys[:,1]-ry,\".\")\n",
    "    plt.show()\n",
    "\n"
   ]
  }
 ],
 "metadata": {
  "interpreter": {
   "hash": "a58837804fd2729ef60824c2b8d35d304a06a62e439fe9b99bb861118ce1f438"
  },
  "kernelspec": {
   "display_name": "Python 3.10.0 64-bit",
   "language": "python",
   "name": "python3"
  },
  "language_info": {
   "codemirror_mode": {
    "name": "ipython",
    "version": 3
   },
   "file_extension": ".py",
   "mimetype": "text/x-python",
   "name": "python",
   "nbconvert_exporter": "python",
   "pygments_lexer": "ipython3",
   "version": "3.10.0"
  },
  "orig_nbformat": 4
 },
 "nbformat": 4,
 "nbformat_minor": 2
}
