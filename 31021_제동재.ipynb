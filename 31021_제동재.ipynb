{
 "cells": [
  {
   "cell_type": "code",
   "execution_count": 2,
   "metadata": {},
   "outputs": [
    {
     "name": "stdout",
     "output_type": "stream",
     "text": [
      "지하철 요금은 1250원입니다.\n"
     ]
    }
   ],
   "source": [
    "age = int(input('나이가 어떻게 되세요? '))\n",
    "\n",
    "if age<13: \n",
    "    print('지하철 요금은 450원입니다.')\n",
    "elif age<19: \n",
    "    print('지하철 요금은 720원입니다.')\n",
    "else : \n",
    "    print('지하철 요금은 1250원입니다.')\n",
    "\n"
   ]
  },
  {
   "cell_type": "code",
   "execution_count": 1,
   "metadata": {},
   "outputs": [
    {
     "name": "stdout",
     "output_type": "stream",
     "text": [
      "생일이 다름\n"
     ]
    }
   ],
   "source": [
    "#과제2\n",
    "import numpy as np\n",
    "birthday_1 = np.random.randint(1,365)\n",
    "birthday_2 = np.random.randint(1,365)\n",
    "\n",
    "if birthday_1 == birthday_2:\n",
    "    print('생일이 같음')\n",
    "else:\n",
    "    print('생일이 다름')\n"
   ]
  }
 ],
 "metadata": {
  "interpreter": {
   "hash": "a58837804fd2729ef60824c2b8d35d304a06a62e439fe9b99bb861118ce1f438"
  },
  "kernelspec": {
   "display_name": "Python 3.10.0 64-bit",
   "language": "python",
   "name": "python3"
  },
  "language_info": {
   "codemirror_mode": {
    "name": "ipython",
    "version": 3
   },
   "file_extension": ".py",
   "mimetype": "text/x-python",
   "name": "python",
   "nbconvert_exporter": "python",
   "pygments_lexer": "ipython3",
   "version": "3.10.0"
  },
  "orig_nbformat": 4
 },
 "nbformat": 4,
 "nbformat_minor": 2
}
